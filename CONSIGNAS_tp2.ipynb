{
 "cells": [
  {
   "cell_type": "markdown",
   "metadata": {},
   "source": [
    "# Criterios de evaluación.\n",
    "\n",
    "* Se deben utilizar nombres de variables descriptivos y claros.\n",
    "* Cada ejercicio debe ser realizado utilizando **FUNCIONES**, NO solo codigo suelto.\n",
    "* Comentarios claros y concisos que expliquen el propósito de cada sección del código.\n",
    "* Entrega en tiempo y forma.\n",
    "* Todo el código desarrollado debe ser subido a un repositorio en GitHub.\n",
    "\n",
    "\n",
    "**Aclaración: Para resolver las actividades se debe incertar casillas de codigo entre cada actividad del cuaderno de Jupyter**"
   ]
  },
  {
   "cell_type": "markdown",
   "metadata": {},
   "source": [
    "### 1. **Bucles**\n",
    "\n",
    "   - **Actividad 1.1**: Escribir un programa que muestre el print de todo lo que el usuario introduzca hasta que el usuario escriba “salir” que terminará.\n",
    "   \n",
    "   - **Actividad 1.2**: Escribir un programa que pida al usuario un número entero y muestre por pantalla un triángulo rectángulo como el de más abajo con la cantidad de escalones indicados previamente (los numeros dentro del triangulo deben ser enteros aleatorios del 0 al 9).\n",
    "* 1\n",
    "* 3 1\n",
    "* 5 3 1\n",
    "* 7 5 3 1\n",
    "* 9 7 5 3 1"
   ]
  },
  {
   "cell_type": "code",
   "execution_count": 1,
   "metadata": {},
   "outputs": [
    {
     "name": "stdout",
     "output_type": "stream",
     "text": [
      "Entrada: holaaaa\n"
     ]
    }
   ],
   "source": [
    "\n",
    "# todo: Resolución\n",
    "# ! 1\n",
    "\n",
    "\n",
    "while True:\n",
    "    entrada = input(\"Ingrese algo (o salir para terminar): \")\n",
    "    \n",
    "    if entrada.lower() == \"salir\":\n",
    "        break\n",
    "    \n",
    "    print(\"Entrada:\", entrada)"
   ]
  },
  {
   "cell_type": "code",
   "execution_count": 10,
   "metadata": {},
   "outputs": [
    {
     "name": "stdout",
     "output_type": "stream",
     "text": [
      "2 \n",
      "0 6 \n",
      "3 3 3 \n",
      "7 1 7 9 \n"
     ]
    }
   ],
   "source": [
    "\n",
    "# todo: resolución\n",
    "\n",
    "# ! 2\n",
    "\n",
    "import random \n",
    "\n",
    "escalones = int(input(\"Ingrese la cantidad de escalones: \"))    \n",
    "\n",
    "for i in range(1, escalones + 1):\n",
    "    fila = \"\"\n",
    "    for j in range(i):\n",
    "        numero = random.randint(0, 9)\n",
    "        fila += str(numero) + \" \"\n",
    "    print(fila) \n"
   ]
  },
  {
   "cell_type": "markdown",
   "metadata": {},
   "source": [
    "### 2. **Listas y Tuplas**\n",
    "\n",
    "   - **Actividad 1**: Escribir un programa que pida al usuario una frase y muestre por pantalla el número de veces que contiene cada vocal y la cantidad de espacios en blanco.\n",
    "\n",
    "   - **Actividad 2**: Escribir un programa que cree una matriz (con numeros aleatorios del 1 al 100) usando las dimensiones de X e Y que el usuario deberia ingresar por consola, luego crea una tupla con la matriz transpuesta y por ultimo las muestra ambas por consola .\n",
    "\n",
    "   - **Actividad 3**: Escribir un programa que almacene en una lista los siguientes precios, 50, 75, 46, 22, 80, 65, 8, y muestre por pantalla el menor y el mayor de los precios"
   ]
  },
  {
   "cell_type": "code",
   "execution_count": 3,
   "metadata": {},
   "outputs": [
    {
     "name": "stdout",
     "output_type": "stream",
     "text": [
      "mañana es miercoles nueve\n",
      "cantidad de veces que se repite : a : 3\n",
      "cantidad de veces que se repite : e : 5\n",
      "cantidad de veces que se repite : i : 1\n",
      "cantidad de veces que se repite : o : 1\n",
      "cantidad de veces que se repite : u : 1\n",
      "cantidad de veces que se repite :   : 3\n"
     ]
    }
   ],
   "source": [
    "\n",
    "# todo: Resolución\n",
    "\n",
    "# ! 1\n",
    "\n",
    "frase = input(\"Ingrese una frase: \")\n",
    "vocales = ('a', 'e', 'i', 'o', 'u', ' ')\n",
    "\n",
    "def contar_vocales(frase, vocales):\n",
    "    \n",
    "    for vocal in vocales:\n",
    "        conteo = frase.lower().count(vocal)\n",
    "        print(f\"cantidad de veces que se repite : {vocal} : {conteo}\")\n",
    "            \n",
    "print(frase)\n",
    "contar_vocales(frase, vocales)\n",
    "    \n",
    "\n",
    "    "
   ]
  },
  {
   "cell_type": "code",
   "execution_count": 4,
   "metadata": {},
   "outputs": [
    {
     "name": "stdout",
     "output_type": "stream",
     "text": [
      "\n",
      "Matriz original:\n",
      "[3, 55]\n",
      "[11, 66]\n",
      "[29, 33]\n",
      "[29, 1]\n",
      "\n",
      "Matriz transpuesta (como tupla):\n",
      "(3, 11, 29, 29)\n",
      "(55, 66, 33, 1)\n"
     ]
    }
   ],
   "source": [
    "\n",
    "# todo: Resolución\n",
    "\n",
    "# ! 2\n",
    "import random\n",
    "\n",
    "x = int(input(\"Ingrese la cantidad de filas (x): \"))\n",
    "y = int(input(\"Ingrese la cantidad de columnas(y): \"))\n",
    "\n",
    "def generar_matriz(x,y):\n",
    "    matriz = [[random.randint(1, 100) for _ in range(y)] for _ in range(x)]\n",
    "    \n",
    "    transpuesta = tuple(zip(*matriz))\n",
    "    \n",
    "    print(\"\\nMatriz original:\")\n",
    "    for x in matriz:\n",
    "        print(x)\n",
    "\n",
    "    print(\"\\nMatriz transpuesta (como tupla):\")\n",
    "    for x in transpuesta:\n",
    "        print(x)\n",
    "    \n",
    "generar_matriz(x,y)\n",
    "\n"
   ]
  },
  {
   "cell_type": "code",
   "execution_count": 10,
   "metadata": {},
   "outputs": [
    {
     "name": "stdout",
     "output_type": "stream",
     "text": [
      "El precio mas alto es: 80\n",
      "El precio más bajo es: 8\n"
     ]
    }
   ],
   "source": [
    "\n",
    "# todo: Resolución\n",
    "\n",
    "# ! 3\n",
    "\n",
    "precios = (50,75,46,22,80,65, 8)\n",
    "\n",
    "def calcular_max_min(precios):\n",
    "    \n",
    "    nro_max = max(precios)\n",
    "    nro_min = min(precios)\n",
    "    \n",
    "    print(f\"El precio mas alto es: {nro_max}\")\n",
    "    print(f\"El precio más bajo es: {nro_min}\")\n",
    "\n",
    "\n",
    "calcular_max_min(precios)"
   ]
  },
  {
   "cell_type": "markdown",
   "metadata": {},
   "source": [
    "### 3. **Diccionarios**\n",
    "\n",
    "   - **Actividad 1**: Escribir un programa que cree un diccionario simulando una cesta de la compra. El programa debe preguntar el artículo y su precio y añadir el par al diccionario, hasta que el usuario decida terminar. Después se debe mostrar por pantalla la lista de la compra y el coste total, con el siguiente formato.\n",
    "\n",
    "   | arts  |precio |\n",
    "   |-------|-------|\n",
    "   |art 1  |1      |\n",
    "   |art 2  |2      |\n",
    "   |art 3  |3      |\n",
    "   |total  |6      |\n",
    "\n",
    "   - **Actividad 2**: Escribir un programa que cree un diccionario de traducción español-inglés. El usuario introducirá las palabras en español e inglés separadas por dos puntos, y cada par <palabra> : <traducción> separados por comas (es decir, solo se debe usar **UNA VEZ** la función input para la carga de palabras). El programa debe crear un diccionario con las palabras y sus traducciones. Después pedirá una frase en español y utilizará el diccionario para traducirla palabra a palabra. Si una palabra no está en el diccionario debe dejarla sin traducir.\n",
    "\n",
    "   - **Actividad 3**: Escribir un programa que reciba una cadena de caracteres y devuelva un diccionario con cada palabra que contiene y su frecuencia. Escribir otra función que reciba el diccionario generado con la función anterior y devuelva una tupla con la palabra más repetida y su frecuencia."
   ]
  },
  {
   "cell_type": "code",
   "execution_count": 28,
   "metadata": {},
   "outputs": [
    {
     "name": "stdout",
     "output_type": "stream",
     "text": [
      "\n",
      "| arts       | precio  |\n",
      "|------------|---------|\n",
      "| leche      | 2500.0  |\n",
      "| azucar     | 1500.0  |\n",
      "| sal        | 100.0   |\n",
      "| total      | 4100.00 |\n"
     ]
    }
   ],
   "source": [
    "\n",
    "# todo: Resolución\n",
    "\n",
    "# ! 1\n",
    "lista_compras = {}\n",
    "while True:\n",
    "    producto = input(\"Ingrese el nombre de un producto (o 'salir' para terminar): \")\n",
    "    \n",
    "    if producto.lower() == 'salir' :\n",
    "        break\n",
    "    \n",
    "    try:\n",
    "        precio = float(input(f\"Ingrese el precio de {producto}: \"))\n",
    "        lista_compras[producto] = precio\n",
    "    except ValueError:\n",
    "        print(\"Ingrese un número válido\")\n",
    "\n",
    "coste_total = sum(lista_compras.values())\n",
    "\n",
    "print(\"\\n| {:<10} | {:<7} |\".format(\"arts\", \"precio\"))\n",
    "print(\"|\" + \"-\"*12 + \"|\" + \"-\"*9 + \"|\")\n",
    "\n",
    "for producto, precio in lista_compras.items():\n",
    "    print(\"| {:<10} | {:<7} |\".format(producto, precio))\n",
    "\n",
    "print(\"| {:<10} | {:<7.2f} |\".format(\"total\", coste_total))"
   ]
  },
  {
   "cell_type": "code",
   "execution_count": 37,
   "metadata": {},
   "outputs": [
    {
     "name": "stdout",
     "output_type": "stream",
     "text": [
      "Frase traducida:\n",
      "Yo Amo Gatos\n"
     ]
    }
   ],
   "source": [
    "\n",
    "# todo: Resolución\n",
    "# ! 2\n",
    "palabra = input(\"Ingrese cada palabra separada por una coma y su traducción separada por ':' : \")\n",
    "dic = {}\n",
    "\n",
    "def traductor(palabra):\n",
    "    for par in palabra.split(\",\"):\n",
    "        if \":\" in par:\n",
    "            esp, ing = par.split(\":\")\n",
    "            dic[esp.strip().lower()] = ing.strip()\n",
    "\n",
    "\n",
    "traductor(palabra)\n",
    "\n",
    "frase = input(\"Ingrese una frase en español: \")\n",
    "palabras = frase.split()\n",
    "traduccion = []\n",
    "\n",
    "for palabra in palabras:\n",
    "    traduccion.append(dic.get(palabra, palabra))  # * Si no está, deja la palabra original\n",
    "\n",
    "print(\"Frase traducida:\")\n",
    "print(\" \".join(traduccion))\n"
   ]
  },
  {
   "cell_type": "code",
   "execution_count": null,
   "metadata": {},
   "outputs": [
    {
     "name": "stdout",
     "output_type": "stream",
     "text": [
      "Frecuencias: {'hola': 2, 'antonio': 1, 'maria': 1, 'como': 2, 'estan': 1, 'les': 1, 'ha': 1, 'ido': 1}\n",
      "La palabra más repetida es 'hola' con 2 apariciones.\n"
     ]
    }
   ],
   "source": [
    "\n",
    "# todo: Resolución\n",
    "\n",
    "# ! 3\n",
    "\n",
    "def contador_palabras(texto):\n",
    "    palabras = texto.lower().split()\n",
    "    frecuencia = {}\n",
    "    \n",
    "    for palabra in palabras:\n",
    "        if palabra in frecuencia:\n",
    "            frecuencia[palabra] += 1\n",
    "        else:\n",
    "            frecuencia[palabra] = 1\n",
    "    return frecuencia\n",
    "\n",
    "def palabra_mas_repetida(diccionario):\n",
    "    if not diccionario:\n",
    "        return None, 0  # * por si el diccionario está vacío\n",
    "\n",
    "    palabra = max(diccionario, key=diccionario.get)\n",
    "    return palabra, diccionario[palabra]\n",
    "\n",
    "texto = input(\"Ingresa una frase o párrafo: \")\n",
    "\n",
    "frecuencias = contador_palabras(texto)\n",
    "print(\"Frecuencias:\", frecuencias)\n",
    "\n",
    "palabra, cantidad = palabra_mas_repetida(frecuencias)\n",
    "print(f\"La palabra más repetida es '{palabra}' con {cantidad} apariciones.\")\n"
   ]
  },
  {
   "cell_type": "markdown",
   "metadata": {},
   "source": [
    "### 4. **Funciones**\n",
    "\n",
    "- **Actividad 1**: Escribir una función que calcule el total de una factura tras aplicarle el IVA. La función debe recibir la cantidad sin IVA y el porcentaje de IVA a aplicar, y devolver el total de la factura. Si se invoca la función sin pasarle el porcentaje de IVA, deberá aplicar un 21%.\n",
    "\n",
    "- **Actividad 2**: Escribir una función que reciba un número entero positivo y devuelva su factorial.\n"
   ]
  },
  {
   "cell_type": "code",
   "execution_count": 15,
   "metadata": {},
   "outputs": [
    {
     "name": "stdout",
     "output_type": "stream",
     "text": [
      "El total de la factura con IVA es: 27.83\n"
     ]
    }
   ],
   "source": [
    "\n",
    "# todo: Resolución\n",
    "\n",
    "# ! 1\n",
    "\n",
    "cantidad_sin_iva = float(input(\"Ingrese la cantidad sin IVA: \"))\n",
    "porcentaje_iva_input = input(\"Ingrese el porcentaje de IVA (deje vacío para 21%): \")\n",
    "\n",
    "def calcular_total_factura(cantidad_sin_iva, porcentaje_iva=21):  # *  Valor por defecto 21\n",
    "    total = cantidad_sin_iva * (1 + porcentaje_iva / 100)\n",
    "    return total\n",
    "\n",
    "# * Si el usuario no ingresa nada usa 21% por defecto\n",
    "porcentaje_iva = float(porcentaje_iva_input) if porcentaje_iva_input else 21\n",
    "\n",
    "total_factura = calcular_total_factura(cantidad_sin_iva, porcentaje_iva)\n",
    "print(f\"El total de la factura con IVA es: {total_factura}\")\n"
   ]
  },
  {
   "cell_type": "code",
   "execution_count": 13,
   "metadata": {},
   "outputs": [
    {
     "name": "stdout",
     "output_type": "stream",
     "text": [
      "40320\n"
     ]
    }
   ],
   "source": [
    "\n",
    "# todo: Resolución\n",
    "\n",
    "# ! 2\n",
    "\n",
    "n = int(input(\"Ingrese el valor de n: \"))\n",
    "def factorial(n):\n",
    "    try: \n",
    "        if n < 0:\n",
    "            return print(\"El valor de n debe ser positivo\")\n",
    "        resultado = 1\n",
    "        for i in range(1, n+1):\n",
    "            resultado *= i\n",
    "        return resultado\n",
    "    except ValueError:\n",
    "        print(\"El valor ingresado debe ser un entero\")\n",
    "    \n",
    "print(factorial(n))"
   ]
  }
 ],
 "metadata": {
  "kernelspec": {
   "display_name": "Python 3",
   "language": "python",
   "name": "python3"
  },
  "language_info": {
   "codemirror_mode": {
    "name": "ipython",
    "version": 3
   },
   "file_extension": ".py",
   "mimetype": "text/x-python",
   "name": "python",
   "nbconvert_exporter": "python",
   "pygments_lexer": "ipython3",
   "version": "3.12.9"
  }
 },
 "nbformat": 4,
 "nbformat_minor": 2
}
